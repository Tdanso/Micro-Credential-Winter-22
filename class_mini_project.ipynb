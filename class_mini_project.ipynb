{
  "nbformat": 4,
  "nbformat_minor": 0,
  "metadata": {
    "colab": {
      "name": "class mini  project.ipynb",
      "provenance": [],
      "authorship_tag": "ABX9TyPqWq1CXaeo6CDPhRWcDX7s",
      "include_colab_link": true
    },
    "kernelspec": {
      "name": "python3",
      "display_name": "Python 3"
    },
    "language_info": {
      "name": "python"
    }
  },
  "cells": [
    {
      "cell_type": "markdown",
      "metadata": {
        "id": "view-in-github",
        "colab_type": "text"
      },
      "source": [
        "<a href=\"https://colab.research.google.com/github/Tdanso/Micro-Credential-Winter-22/blob/main/class_mini_project.ipynb\" target=\"_parent\"><img src=\"https://colab.research.google.com/assets/colab-badge.svg\" alt=\"Open In Colab\"/></a>"
      ]
    },
    {
      "cell_type": "markdown",
      "source": [
        "# Mini Class Project\n",
        "Ask the user for a number. Depending on whether the number is even or odd, print out an\n",
        "appropriate message to the user. Hint: how does an even / odd number react differently\n",
        "when divided by 2\n",
        "\n",
        "Bonus:\n",
        "\n",
        "If the number is a multiple of 4, print out a different message.\n",
        "\n",
        "Ask the user for two numbers: one number to check (call it num) and one number to divide\n",
        "by (check). If check divides evenly into num, tell that to the user. If not, print a different\n",
        "appropriate message.\n",
        "\n",
        "Write a custom function for finding whether the number is even or odd and call it in your\n",
        "main program code."
      ],
      "metadata": {
        "id": "W8wjmLsX41fX"
      }
    },
    {
      "cell_type": "code",
      "source": [
        "# define a func to check whether number is odd or even\n",
        "def Even_Odd_checker():\n",
        "  # initial number to value def \n",
        "    number = value() \n",
        "    # if number divisible and reminder = 0 print evev\n",
        "    if(number  % 2 == 0):\n",
        "        print(\"Even number\")\n",
        "   # if number divisible by 4 and reminder = 0 print  number is multiple of 4\n",
        "        if(number % 4 == 0):\n",
        "           print(\"number is multiple of 4\")\n",
        "           # else print odd number\n",
        "    else:\n",
        "        print(\"Odd number\")\n",
        "     #initial number 1 and 2 to value def\n",
        "    num1,num2= value(), value()\n",
        "    # check numbers 1 and 2 is evely of each other and if its print evely devides\n",
        "    if (num1 % num2 == 0):\n",
        "        print(f\"{num1} evenly devides {num2}\")\n",
        "    else:\n",
        "      # else print its not \n",
        "        print(f\"{num1} not evenly devides by {num2}\")\n",
        "        # value func take user input for value number\n",
        "def value():\n",
        "        return int(input(\"Enter a number\"))\n",
        "#Even_Odd_checker()"
      ],
      "metadata": {
        "id": "jaKIRVqWznwe"
      },
      "execution_count": 26,
      "outputs": []
    },
    {
      "cell_type": "code",
      "source": [
        "Even_Odd_checker()"
      ],
      "metadata": {
        "colab": {
          "base_uri": "https://localhost:8080/"
        },
        "id": "DxsDbDOZ5QyN",
        "outputId": "6707e46e-81cf-4c28-fd7b-5d1813f6f9d0"
      },
      "execution_count": 29,
      "outputs": [
        {
          "output_type": "stream",
          "name": "stdout",
          "text": [
            "Enter a number700\n",
            "Even number\n",
            "number is multiple of 4\n",
            "Enter a number66\n",
            "Enter a number45\n",
            "66 not evenly devides by 45\n"
          ]
        }
      ]
    }
  ]
}