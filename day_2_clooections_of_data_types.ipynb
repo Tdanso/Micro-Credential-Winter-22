{
  "nbformat": 4,
  "nbformat_minor": 0,
  "metadata": {
    "colab": {
      "name": "day 2 clooections of data types.ipynb",
      "provenance": [],
      "authorship_tag": "ABX9TyMCSQ0sWkpJNOuXogHav99v",
      "include_colab_link": true
    },
    "kernelspec": {
      "name": "python3",
      "display_name": "Python 3"
    },
    "language_info": {
      "name": "python"
    }
  },
  "cells": [
    {
      "cell_type": "markdown",
      "metadata": {
        "id": "view-in-github",
        "colab_type": "text"
      },
      "source": [
        "<a href=\"https://colab.research.google.com/github/Tdanso/Micro-Credential-Winter-22/blob/main/day_2_clooections_of_data_types.ipynb\" target=\"_parent\"><img src=\"https://colab.research.google.com/assets/colab-badge.svg\" alt=\"Open In Colab\"/></a>"
      ]
    },
    {
      "cell_type": "markdown",
      "source": [
        "# collection data types\n",
        "list dictionaries, set and tuples\n",
        "#List"
      ],
      "metadata": {
        "id": "aK5x5btVNzu3"
      }
    },
    {
      "cell_type": "code",
      "source": [
        "movies = [\"star wars\", \"star trek\", \"lord of the rings\", \"avengers\",\"the Hobbit\", \"fast and ferious\"]"
      ],
      "metadata": {
        "id": "OiTugghtO-Ba"
      },
      "execution_count": 11,
      "outputs": []
    },
    {
      "cell_type": "code",
      "source": [
        "movies"
      ],
      "metadata": {
        "colab": {
          "base_uri": "https://localhost:8080/"
        },
        "id": "-P3H7MGTQJjG",
        "outputId": "65ad9eae-0b3d-4905-9e13-34110c84d585"
      },
      "execution_count": 10,
      "outputs": [
        {
          "output_type": "execute_result",
          "data": {
            "text/plain": [
              "['star wars', 'star trek', 'lord of the rings', 'avengers']"
            ]
          },
          "metadata": {},
          "execution_count": 10
        }
      ]
    },
    {
      "cell_type": "code",
      "source": [
        "s = 'hello world'"
      ],
      "metadata": {
        "id": "jcjiqltzQKuE"
      },
      "execution_count": 6,
      "outputs": []
    },
    {
      "cell_type": "code",
      "source": [
        "s.upper()"
      ],
      "metadata": {
        "colab": {
          "base_uri": "https://localhost:8080/",
          "height": 35
        },
        "id": "fg23676rQky5",
        "outputId": "aeaa5d09-68d8-4a6c-9a86-8dd75d3abd8f"
      },
      "execution_count": 7,
      "outputs": [
        {
          "output_type": "execute_result",
          "data": {
            "application/vnd.google.colaboratory.intrinsic+json": {
              "type": "string"
            },
            "text/plain": [
              "'HELLO WORLD'"
            ]
          },
          "metadata": {},
          "execution_count": 7
        }
      ]
    },
    {
      "cell_type": "code",
      "source": [
        "s.lower()"
      ],
      "metadata": {
        "colab": {
          "base_uri": "https://localhost:8080/",
          "height": 35
        },
        "id": "xq-_Y_9qQ9KF",
        "outputId": "54065f16-c1a0-48a8-eb4f-4154786ddd90"
      },
      "execution_count": 8,
      "outputs": [
        {
          "output_type": "execute_result",
          "data": {
            "application/vnd.google.colaboratory.intrinsic+json": {
              "type": "string"
            },
            "text/plain": [
              "'hello world'"
            ]
          },
          "metadata": {},
          "execution_count": 8
        }
      ]
    },
    {
      "cell_type": "code",
      "source": [
        "len(movies)"
      ],
      "metadata": {
        "colab": {
          "base_uri": "https://localhost:8080/"
        },
        "id": "n6-lBUk8RARd",
        "outputId": "98b55a5f-548b-4f7a-cb9a-ad3b80e32209"
      },
      "execution_count": 12,
      "outputs": [
        {
          "output_type": "execute_result",
          "data": {
            "text/plain": [
              "6"
            ]
          },
          "metadata": {},
          "execution_count": 12
        }
      ]
    },
    {
      "cell_type": "code",
      "source": [
        "movies[-1]"
      ],
      "metadata": {
        "colab": {
          "base_uri": "https://localhost:8080/",
          "height": 35
        },
        "id": "I7rJNyHERgII",
        "outputId": "969321ec-6664-4135-c22e-c3fa768ec83d"
      },
      "execution_count": 13,
      "outputs": [
        {
          "output_type": "execute_result",
          "data": {
            "application/vnd.google.colaboratory.intrinsic+json": {
              "type": "string"
            },
            "text/plain": [
              "'fast and ferious'"
            ]
          },
          "metadata": {},
          "execution_count": 13
        }
      ]
    },
    {
      "cell_type": "code",
      "source": [
        "# making the list of movie\n",
        "movies = [\"star wars\", \"star trek\", \"lord of the rings\", \"avengers\"]\n",
        "# print my fevorite movie with concation and using upper case letters\n",
        "message = \"my fevorite movie is \" + movies[0].upper() + \"!!!\"\n",
        "#printing the messsage\n",
        "print(message)"
      ],
      "metadata": {
        "colab": {
          "base_uri": "https://localhost:8080/"
        },
        "id": "XzNsyXqzRma2",
        "outputId": "97c76668-9b00-487d-a26f-e0ea01dfd4eb"
      },
      "execution_count": 15,
      "outputs": [
        {
          "output_type": "stream",
          "name": "stdout",
          "text": [
            "my fevorite movie is STAR WARS!!!\n"
          ]
        }
      ]
    },
    {
      "cell_type": "code",
      "source": [
        "movies"
      ],
      "metadata": {
        "colab": {
          "base_uri": "https://localhost:8080/"
        },
        "id": "8NCQCCpIT7Aw",
        "outputId": "a91f6baf-b7e8-4acc-9072-cb73888ff769"
      },
      "execution_count": 31,
      "outputs": [
        {
          "output_type": "execute_result",
          "data": {
            "text/plain": [
              "['star wars',\n",
              " 'the matrix',\n",
              " 'lord of the rings',\n",
              " 'avengers',\n",
              " 'the hulk',\n",
              " 'walking death',\n",
              " 'forest gump',\n",
              " 'spider man',\n",
              " 'spider man',\n",
              " 'forest gump',\n",
              " 'the hulk',\n",
              " 'walking death',\n",
              " 'forest gump',\n",
              " 'spider man']"
            ]
          },
          "metadata": {},
          "execution_count": 31
        }
      ]
    },
    {
      "cell_type": "code",
      "source": [
        "# assighn the matrix to index 1\n",
        "movies[1] = 'the matrix'"
      ],
      "metadata": {
        "id": "hXXs5SSPdHIn"
      },
      "execution_count": 17,
      "outputs": []
    },
    {
      "cell_type": "code",
      "source": [
        "movies"
      ],
      "metadata": {
        "colab": {
          "base_uri": "https://localhost:8080/"
        },
        "id": "BHcEflGcdN78",
        "outputId": "1db45432-a919-4c86-cb44-03d7a7d53627"
      },
      "execution_count": 18,
      "outputs": [
        {
          "output_type": "execute_result",
          "data": {
            "text/plain": [
              "['star wars', 'the matrix', 'lord of the rings', 'avengers']"
            ]
          },
          "metadata": {},
          "execution_count": 18
        }
      ]
    },
    {
      "cell_type": "code",
      "source": [
        "# appending or adding movies to list \n",
        "movies.append('the hulk')"
      ],
      "metadata": {
        "id": "yPj7gPOndQ8S"
      },
      "execution_count": 26,
      "outputs": []
    },
    {
      "cell_type": "code",
      "source": [
        "# appending or adding movies to list \n",
        "movies.append('walking death')"
      ],
      "metadata": {
        "id": "LhAUAGdTeJIP"
      },
      "execution_count": 27,
      "outputs": []
    },
    {
      "cell_type": "code",
      "source": [
        "# appending or adding movies to list \n",
        "movies.append('forest gump')\n"
      ],
      "metadata": {
        "id": "PRHu6G41eQoO"
      },
      "execution_count": 28,
      "outputs": []
    },
    {
      "cell_type": "code",
      "source": [
        "# appending or adding movies to list \n",
        "movies.append('spider man')"
      ],
      "metadata": {
        "id": "Gs18Ur_yee2L"
      },
      "execution_count": 29,
      "outputs": []
    },
    {
      "cell_type": "code",
      "source": [
        "movies"
      ],
      "metadata": {
        "colab": {
          "base_uri": "https://localhost:8080/"
        },
        "id": "oDeXyiNrekmI",
        "outputId": "c106a506-1c4e-4cc5-8c86-52b1897256dc"
      },
      "execution_count": 30,
      "outputs": [
        {
          "output_type": "execute_result",
          "data": {
            "text/plain": [
              "['star wars',\n",
              " 'the matrix',\n",
              " 'lord of the rings',\n",
              " 'avengers',\n",
              " 'the hulk',\n",
              " 'walking death',\n",
              " 'forest gump',\n",
              " 'spider man',\n",
              " 'spider man',\n",
              " 'forest gump',\n",
              " 'the hulk',\n",
              " 'walking death',\n",
              " 'forest gump',\n",
              " 'spider man']"
            ]
          },
          "metadata": {},
          "execution_count": 30
        }
      ]
    },
    {
      "cell_type": "code",
      "source": [
        "# removing the moving from the list\n",
        "movies.remove('spider man')"
      ],
      "metadata": {
        "id": "LS8KCzZHemca"
      },
      "execution_count": 34,
      "outputs": []
    },
    {
      "cell_type": "code",
      "source": [
        "movies"
      ],
      "metadata": {
        "colab": {
          "base_uri": "https://localhost:8080/"
        },
        "id": "kzN4oDMwfzVa",
        "outputId": "a6dd51bc-9357-4775-8af9-909403af46ec"
      },
      "execution_count": 35,
      "outputs": [
        {
          "output_type": "execute_result",
          "data": {
            "text/plain": [
              "['star wars',\n",
              " 'the matrix',\n",
              " 'lord of the rings',\n",
              " 'avengers',\n",
              " 'the hulk',\n",
              " 'walking death',\n",
              " 'forest gump',\n",
              " 'forest gump',\n",
              " 'the hulk',\n",
              " 'walking death',\n",
              " 'forest gump',\n",
              " 'spider man']"
            ]
          },
          "metadata": {},
          "execution_count": 35
        }
      ]
    },
    {
      "cell_type": "code",
      "source": [
        "# sorting the movies list  \n",
        "movies.sort()\n"
      ],
      "metadata": {
        "id": "9aFoBy_cf7Ue"
      },
      "execution_count": 36,
      "outputs": []
    },
    {
      "cell_type": "code",
      "source": [
        "movies.sort(reverse=True)"
      ],
      "metadata": {
        "id": "sS9ebPh5gH8G"
      },
      "execution_count": 37,
      "outputs": []
    },
    {
      "cell_type": "code",
      "source": [
        ""
      ],
      "metadata": {
        "id": "bnm1iIVYgbIQ"
      },
      "execution_count": null,
      "outputs": []
    }
  ]
}