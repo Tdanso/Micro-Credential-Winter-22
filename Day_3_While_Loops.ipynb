{
  "nbformat": 4,
  "nbformat_minor": 0,
  "metadata": {
    "colab": {
      "name": "Day 3 While Loops.ipynb",
      "provenance": [],
      "collapsed_sections": [],
      "include_colab_link": true
    },
    "kernelspec": {
      "name": "python3",
      "display_name": "Python 3"
    },
    "language_info": {
      "name": "python"
    }
  },
  "cells": [
    {
      "cell_type": "markdown",
      "metadata": {
        "id": "view-in-github",
        "colab_type": "text"
      },
      "source": [
        "<a href=\"https://colab.research.google.com/github/Tdanso/Micro-Credential-Winter-22/blob/main/Day_3_While_Loops.ipynb\" target=\"_parent\"><img src=\"https://colab.research.google.com/assets/colab-badge.svg\" alt=\"Open In Colab\"/></a>"
      ]
    },
    {
      "cell_type": "markdown",
      "source": [
        "# While Loops"
      ],
      "metadata": {
        "id": "LJbmvb_C67Xm"
      }
    },
    {
      "cell_type": "code",
      "source": [
        "patient = {'Name': 'Jack', 'Last Name': 'Sparrow', 'MRN': '001234567', 'DOB': '22231845'}"
      ],
      "metadata": {
        "id": "fVW8P2rO7CbM"
      },
      "execution_count": null,
      "outputs": []
    },
    {
      "cell_type": "code",
      "source": [
        "for key,value in patient.items():\n",
        "  print('\\n key: ' + key)\n",
        "  print('\\n value: ' + value)"
      ],
      "metadata": {
        "id": "EEC_qEcb7CNe",
        "colab": {
          "base_uri": "https://localhost:8080/"
        },
        "outputId": "d3da666f-f5de-483d-9992-8ad6313854a7"
      },
      "execution_count": null,
      "outputs": [
        {
          "output_type": "stream",
          "name": "stdout",
          "text": [
            "\n",
            " key: Name\n",
            "\n",
            " value: Jack\n",
            "\n",
            " key: Last Name\n",
            "\n",
            " value: Sparrow\n",
            "\n",
            " key: MRN\n",
            "\n",
            " value: 001234567\n",
            "\n",
            " key: DOB\n",
            "\n",
            " value: 22231845\n"
          ]
        }
      ]
    },
    {
      "cell_type": "code",
      "source": [
        "for keys in patient.keys():\n",
        "  print(keys)"
      ],
      "metadata": {
        "id": "zBJ-Opcx7CK7",
        "colab": {
          "base_uri": "https://localhost:8080/"
        },
        "outputId": "d5860bf3-1ad9-4ebb-9cbc-4e30d4f2d77f"
      },
      "execution_count": null,
      "outputs": [
        {
          "output_type": "stream",
          "name": "stdout",
          "text": [
            "Name\n",
            "Last Name\n",
            "MRN\n",
            "DOB\n"
          ]
        }
      ]
    },
    {
      "cell_type": "code",
      "source": [
        "for values in patient.values():\n",
        "  print(values)"
      ],
      "metadata": {
        "id": "PRHJk_9E7CHf",
        "colab": {
          "base_uri": "https://localhost:8080/"
        },
        "outputId": "41c09521-eb12-47f0-bbd3-1020f4f0cd41"
      },
      "execution_count": null,
      "outputs": [
        {
          "output_type": "stream",
          "name": "stdout",
          "text": [
            "Jack\n",
            "Sparrow\n",
            "001234567\n",
            "22231845\n"
          ]
        }
      ]
    },
    {
      "cell_type": "code",
      "source": [
        "number = 1\n",
        "\n",
        "while number <= 5:\n",
        "  print(number)\n",
        "  number += 1\n"
      ],
      "metadata": {
        "id": "_mx5JZfy7CDd",
        "colab": {
          "base_uri": "https://localhost:8080/"
        },
        "outputId": "3248152d-431a-4843-cf60-08752982b4d7"
      },
      "execution_count": null,
      "outputs": [
        {
          "output_type": "stream",
          "name": "stdout",
          "text": [
            "1\n",
            "2\n",
            "3\n",
            "4\n",
            "5\n"
          ]
        }
      ]
    },
    {
      "cell_type": "code",
      "source": [
        "name = input('What is your name: ')"
      ],
      "metadata": {
        "id": "kn9l4cyD7B_5",
        "colab": {
          "base_uri": "https://localhost:8080/"
        },
        "outputId": "e47ce1fb-a1ef-40c0-d1ad-1fa934a12d22"
      },
      "execution_count": null,
      "outputs": [
        {
          "name": "stdout",
          "output_type": "stream",
          "text": [
            "What is your name: Kenobi\n"
          ]
        }
      ]
    },
    {
      "cell_type": "code",
      "source": [
        "name"
      ],
      "metadata": {
        "id": "r9pT6Wqe7B8H",
        "colab": {
          "base_uri": "https://localhost:8080/",
          "height": 35
        },
        "outputId": "1bac10c8-58eb-4111-bb5d-1e4a9dddb1a1"
      },
      "execution_count": null,
      "outputs": [
        {
          "output_type": "execute_result",
          "data": {
            "application/vnd.google.colaboratory.intrinsic+json": {
              "type": "string"
            },
            "text/plain": [
              "'Kenobi'"
            ]
          },
          "metadata": {},
          "execution_count": 11
        }
      ]
    },
    {
      "cell_type": "code",
      "source": [
        "age = int(input('What is your age: '))"
      ],
      "metadata": {
        "id": "JpP9ghET7B4n",
        "colab": {
          "base_uri": "https://localhost:8080/"
        },
        "outputId": "eccd3a8a-9d1c-44bf-f489-4c431ec059ac"
      },
      "execution_count": null,
      "outputs": [
        {
          "name": "stdout",
          "output_type": "stream",
          "text": [
            "What is your age: 34\n"
          ]
        }
      ]
    },
    {
      "cell_type": "code",
      "source": [
        "age"
      ],
      "metadata": {
        "id": "H1NOG0fV7B1M",
        "colab": {
          "base_uri": "https://localhost:8080/"
        },
        "outputId": "2f7646e4-95a1-4a07-9d09-445f2f4801ba"
      },
      "execution_count": null,
      "outputs": [
        {
          "output_type": "execute_result",
          "data": {
            "text/plain": [
              "34"
            ]
          },
          "metadata": {},
          "execution_count": 13
        }
      ]
    },
    {
      "cell_type": "code",
      "source": [
        "prompt = 'Input message... I will repreat untill you type quit...: '\n",
        "message = ''\n",
        "\n",
        "while message != 'quit':\n",
        "  message = input(prompt)\n",
        "  print(message)\n"
      ],
      "metadata": {
        "colab": {
          "base_uri": "https://localhost:8080/"
        },
        "id": "8AVYDa4JVRwU",
        "outputId": "dcc2cfe7-32bf-413b-9f47-52f3a2e252d0"
      },
      "execution_count": null,
      "outputs": [
        {
          "output_type": "stream",
          "name": "stdout",
          "text": [
            "Input message... I will repreat untill you type quit...: no\n",
            "no\n",
            "Input message... I will repreat untill you type quit...: no\n",
            "no\n",
            "Input message... I will repreat untill you type quit...: no\n",
            "no\n",
            "Input message... I will repreat untill you type quit...: yes\n",
            "yes\n",
            "Input message... I will repreat untill you type quit...: now\n",
            "now\n",
            "Input message... I will repreat untill you type quit...: tomorrow\n",
            "tomorrow\n",
            "Input message... I will repreat untill you type quit...: quit\n",
            "quit\n"
          ]
        }
      ]
    },
    {
      "cell_type": "code",
      "source": [
        "prompt = 'Input message... I will repreat untill you type quit...: '\n",
        "message = ''\n",
        "\n",
        "\n",
        "active = True\n",
        "\n",
        "while active:\n",
        "  message = input(prompt)\n",
        "  \n",
        "  if message == 'quit':\n",
        "    active = False\n",
        "  else:\n",
        "    print(message)\n"
      ],
      "metadata": {
        "colab": {
          "base_uri": "https://localhost:8080/"
        },
        "id": "cF0weIs5WHkX",
        "outputId": "95057369-06e0-469b-9601-f255755a6c5d"
      },
      "execution_count": null,
      "outputs": [
        {
          "name": "stdout",
          "output_type": "stream",
          "text": [
            "Input message... I will repreat untill you type quit...: no\n",
            "no\n",
            "Input message... I will repreat untill you type quit...: no\n",
            "no\n",
            "Input message... I will repreat untill you type quit...: yes\n",
            "yes\n",
            "Input message... I will repreat untill you type quit...: quit\n"
          ]
        }
      ]
    }
  ]
}