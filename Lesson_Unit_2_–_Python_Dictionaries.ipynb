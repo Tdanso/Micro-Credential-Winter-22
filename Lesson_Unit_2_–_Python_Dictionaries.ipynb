{
  "nbformat": 4,
  "nbformat_minor": 0,
  "metadata": {
    "colab": {
      "name": "Lesson: Unit 2 – Python Dictionaries.ipynb",
      "provenance": [],
      "authorship_tag": "ABX9TyPh0BTjhlRheSf9eKJG7sBE",
      "include_colab_link": true
    },
    "kernelspec": {
      "name": "python3",
      "display_name": "Python 3"
    },
    "language_info": {
      "name": "python"
    }
  },
  "cells": [
    {
      "cell_type": "markdown",
      "metadata": {
        "id": "view-in-github",
        "colab_type": "text"
      },
      "source": [
        "<a href=\"https://colab.research.google.com/github/Tdanso/Micro-Credential-Winter-22/blob/main/Lesson_Unit_2_%E2%80%93_Python_Dictionaries.ipynb\" target=\"_parent\"><img src=\"https://colab.research.google.com/assets/colab-badge.svg\" alt=\"Open In Colab\"/></a>"
      ]
    },
    {
      "cell_type": "markdown",
      "source": [
        "Lesson: Unit 2 – Python Dictionaries\n",
        "1. Create a simple dictionary that stores 2 variables, for example: first and last name.\n",
        "\n",
        "2. Print out those variables stored in your previous dictionary.\n",
        "\n",
        "3. Add a message to those variables on printing: for example: “Hello, firstname lastname!”\n",
        "\n",
        "4. Create a dictionary that holds 2 key: value pairs:\n",
        "a. Look through your dictionary and print each pair,\n",
        "\n",
        "5. Create a nested dictionary containing three dictionaries – these dictionaries could be\n",
        "anything (favorite pets, travel locations, etc.)\n",
        "a. Loop through the dictionaries and print a message for each."
      ],
      "metadata": {
        "id": "IvWKmm8wauRO"
      }
    },
    {
      "cell_type": "markdown",
      "source": [
        "Create a simple dictionary that stores 2 variables, for example: first and last name."
      ],
      "metadata": {
        "id": "VVFvz5FzbCuP"
      }
    },
    {
      "cell_type": "code",
      "source": [
        "person = {'firstname': 'Mike', 'lastname': 'Larry'}\n",
        "print(str(person['firstname']))\n",
        "print(str(person['lastname']))\n"
      ],
      "metadata": {
        "colab": {
          "base_uri": "https://localhost:8080/"
        },
        "id": "MvbPxsBDbGcR",
        "outputId": "6ef97e55-8fae-4b89-c890-23f01d275355"
      },
      "execution_count": null,
      "outputs": [
        {
          "output_type": "stream",
          "name": "stdout",
          "text": [
            "Mike\n",
            "Larry\n"
          ]
        }
      ]
    },
    {
      "cell_type": "code",
      "source": [
        "# Print out those variables stored in your previous dictionary.\n",
        "print(str(person['firstname']))\n",
        "print(str(person['lastname']))\n"
      ],
      "metadata": {
        "colab": {
          "base_uri": "https://localhost:8080/"
        },
        "id": "MvJuZBeJbR41",
        "outputId": "d96d6473-f1db-4dba-bc9d-b963716e15ec"
      },
      "execution_count": null,
      "outputs": [
        {
          "output_type": "stream",
          "name": "stdout",
          "text": [
            "Mike\n",
            "Larry\n"
          ]
        }
      ]
    },
    {
      "cell_type": "code",
      "source": [
        "lastname = person['lastname']\n",
        "print('hello ' +  person_lastname)"
      ],
      "metadata": {
        "id": "ocMwn4-gdbUt"
      },
      "execution_count": null,
      "outputs": []
    },
    {
      "cell_type": "markdown",
      "source": [
        "Create a dictionary that holds 2 key: value pairs: a. Look through your dictionary and print each pair,"
      ],
      "metadata": {
        "id": "qP1vV7sBbpON"
      }
    },
    {
      "cell_type": "code",
      "source": [
        "person ['Age'] = '200'  \n",
        "person ['height'] = '6.2'\n",
        "print(person)"
      ],
      "metadata": {
        "id": "Ra5WZWxfeUUk"
      },
      "execution_count": null,
      "outputs": []
    },
    {
      "cell_type": "code",
      "source": [
        ""
      ],
      "metadata": {
        "id": "wr33IDJHeT6J"
      },
      "execution_count": null,
      "outputs": []
    },
    {
      "cell_type": "markdown",
      "source": [
        "Create a nested dictionary containing three dictionaries – these dictionaries could be anything (favorite pets, travel locations, etc.) a. Loop through the dictionaries and print a message for each."
      ],
      "metadata": {
        "id": "aZbfKxLId89Q"
      }
    },
    {
      "cell_type": "code",
      "source": [
        ""
      ],
      "metadata": {
        "id": "lcfmGptieVTc"
      },
      "execution_count": null,
      "outputs": []
    },
    {
      "cell_type": "code",
      "source": [
        ""
      ],
      "metadata": {
        "id": "IIhmD2fKeVJ3"
      },
      "execution_count": null,
      "outputs": []
    }
  ]
}