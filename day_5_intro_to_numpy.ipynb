{
  "nbformat": 4,
  "nbformat_minor": 0,
  "metadata": {
    "colab": {
      "name": "day 5 intro to numpy.ipynb",
      "provenance": [],
      "authorship_tag": "ABX9TyNFxyNwaOTQjLZP3fo58BFo",
      "include_colab_link": true
    },
    "kernelspec": {
      "name": "python3",
      "display_name": "Python 3"
    },
    "language_info": {
      "name": "python"
    }
  },
  "cells": [
    {
      "cell_type": "markdown",
      "metadata": {
        "id": "view-in-github",
        "colab_type": "text"
      },
      "source": [
        "<a href=\"https://colab.research.google.com/github/Tdanso/Micro-Credential-Winter-22/blob/main/day_5_intro_to_numpy.ipynb\" target=\"_parent\"><img src=\"https://colab.research.google.com/assets/colab-badge.svg\" alt=\"Open In Colab\"/></a>"
      ]
    },
    {
      "cell_type": "markdown",
      "source": [
        "# intro to Numpy"
      ],
      "metadata": {
        "id": "SVxgwJzf6rIN"
      }
    },
    {
      "cell_type": "code",
      "source": [
        "import numpy as np\n",
        "import math"
      ],
      "metadata": {
        "id": "VNFeiaSh67FS"
      },
      "execution_count": null,
      "outputs": []
    },
    {
      "cell_type": "code",
      "source": [
        "np_city =np.array([\"NYC\",\"LA\",\"Miami\", \" Houston\"])"
      ],
      "metadata": {
        "id": "J7rF4xqY66-n"
      },
      "execution_count": null,
      "outputs": []
    },
    {
      "cell_type": "code",
      "source": [
        "np_city"
      ],
      "metadata": {
        "colab": {
          "base_uri": "https://localhost:8080/"
        },
        "id": "01FPxH-h66zY",
        "outputId": "3cb50914-10ac-472d-c3b1-a643345b7f16"
      },
      "execution_count": null,
      "outputs": [
        {
          "output_type": "execute_result",
          "data": {
            "text/plain": [
              "array(['NYC', 'LA', 'Miami', ' Houston'], dtype='<U8')"
            ]
          },
          "metadata": {},
          "execution_count": 8
        }
      ]
    },
    {
      "cell_type": "code",
      "source": [
        "np_city.shape"
      ],
      "metadata": {
        "colab": {
          "base_uri": "https://localhost:8080/"
        },
        "id": "Qguw5gE466vT",
        "outputId": "f190c38d-487e-4cdc-d7e2-e133a530bcaa"
      },
      "execution_count": null,
      "outputs": [
        {
          "output_type": "execute_result",
          "data": {
            "text/plain": [
              "(4,)"
            ]
          },
          "metadata": {},
          "execution_count": 9
        }
      ]
    },
    {
      "cell_type": "code",
      "source": [
        "np_city.size"
      ],
      "metadata": {
        "colab": {
          "base_uri": "https://localhost:8080/"
        },
        "id": "eI3a3Bw666qa",
        "outputId": "ee86129b-48c1-4221-ce06-89200e80c5af"
      },
      "execution_count": null,
      "outputs": [
        {
          "output_type": "execute_result",
          "data": {
            "text/plain": [
              "4"
            ]
          },
          "metadata": {},
          "execution_count": 10
        }
      ]
    },
    {
      "cell_type": "code",
      "source": [
        "np_city.dtype"
      ],
      "metadata": {
        "colab": {
          "base_uri": "https://localhost:8080/"
        },
        "id": "rpeCWAEF66kw",
        "outputId": "41753c9a-7c70-47a0-cec9-c6b8f2ee2f39"
      },
      "execution_count": null,
      "outputs": [
        {
          "output_type": "execute_result",
          "data": {
            "text/plain": [
              "dtype('<U8')"
            ]
          },
          "metadata": {},
          "execution_count": 11
        }
      ]
    },
    {
      "cell_type": "code",
      "source": [
        "np_city2 =np.array([[\"NYC\",\"LA\",\"Miami\", \" Houston\"],\n",
        "                   [\"NY\",\"CA\",\"FL\",\"TX\"]])"
      ],
      "metadata": {
        "id": "hhB71eoS66ck"
      },
      "execution_count": null,
      "outputs": []
    },
    {
      "cell_type": "code",
      "source": [
        "np_city2"
      ],
      "metadata": {
        "colab": {
          "base_uri": "https://localhost:8080/"
        },
        "id": "WWi451qc66Ro",
        "outputId": "d8ee0219-5825-4810-8019-9cbb62ff4777"
      },
      "execution_count": null,
      "outputs": [
        {
          "output_type": "execute_result",
          "data": {
            "text/plain": [
              "array([['NYC', 'LA', 'Miami', ' Houston'],\n",
              "       ['NY', 'CA', 'FL', 'TX']], dtype='<U8')"
            ]
          },
          "metadata": {},
          "execution_count": 14
        }
      ]
    },
    {
      "cell_type": "code",
      "source": [
        "np_city2.shape"
      ],
      "metadata": {
        "colab": {
          "base_uri": "https://localhost:8080/"
        },
        "id": "sdw_m-0R659Y",
        "outputId": "e4fc8334-323e-495f-a9df-863689e47021"
      },
      "execution_count": null,
      "outputs": [
        {
          "output_type": "execute_result",
          "data": {
            "text/plain": [
              "(2, 4)"
            ]
          },
          "metadata": {},
          "execution_count": 15
        }
      ]
    },
    {
      "cell_type": "code",
      "source": [
        "np_city2.size"
      ],
      "metadata": {
        "colab": {
          "base_uri": "https://localhost:8080/"
        },
        "id": "baqM-x828xWr",
        "outputId": "428a4074-cc90-4018-ce8f-5b95f8a80aff"
      },
      "execution_count": null,
      "outputs": [
        {
          "output_type": "execute_result",
          "data": {
            "text/plain": [
              "8"
            ]
          },
          "metadata": {},
          "execution_count": 16
        }
      ]
    },
    {
      "cell_type": "code",
      "source": [
        "np_city2.dtype"
      ],
      "metadata": {
        "colab": {
          "base_uri": "https://localhost:8080/"
        },
        "id": "A2rExDlK80OU",
        "outputId": "f2f591ab-1042-4709-9317-787b94e62c8c"
      },
      "execution_count": null,
      "outputs": [
        {
          "output_type": "execute_result",
          "data": {
            "text/plain": [
              "dtype('<U8')"
            ]
          },
          "metadata": {},
          "execution_count": 17
        }
      ]
    },
    {
      "cell_type": "markdown",
      "source": [
        "# Create a np array with 5 lists in it... \n",
        "# each list must have 10 items in it"
      ],
      "metadata": {
        "id": "JhCYykBp82Mz"
      }
    },
    {
      "cell_type": "code",
      "source": [
        "data = np.array([[\"A\",\"B\",\"C\",\"D\",\"E\",\"F\",\"G\"],\n",
        "                [\"A\",\"B\",\"C\",\"D\",\"E\",\"F\", \"G\"],\n",
        "                 [\"A\",\"B\",\"C\",\"D\",\"E\",\"F\",\"G\"],\n",
        "                 [\"A\",\"B\",\"C\",\"D\",\"E\",\"F\", \"G\"],\n",
        "                 [\"A\",\"B\",\"C\",\"D\",\"E\",\"F\", \"G\"]])\n",
        "data"
      ],
      "metadata": {
        "id": "-sHygvgW8-Ml"
      },
      "execution_count": null,
      "outputs": []
    },
    {
      "cell_type": "code",
      "source": [
        "data.size"
      ],
      "metadata": {
        "colab": {
          "base_uri": "https://localhost:8080/"
        },
        "id": "0k5k1mdr894G",
        "outputId": "a829bee2-b8fa-476a-eeba-26136c354c62"
      },
      "execution_count": null,
      "outputs": [
        {
          "output_type": "execute_result",
          "data": {
            "text/plain": [
              "35"
            ]
          },
          "metadata": {},
          "execution_count": 21
        }
      ]
    },
    {
      "cell_type": "code",
      "source": [
        "first_trial_cylist = [\"10\",\"15\",\"17\",\"26\",\"37\",\"49\",\"57\",\"61\"]\n"
      ],
      "metadata": {
        "id": "xxNP5YwA-Mls"
      },
      "execution_count": null,
      "outputs": []
    },
    {
      "cell_type": "code",
      "source": [
        "second_trial_cylist = [\"10\",\"15\",\"20\",\"20\",\"30\",\"49\",\"50\",\"60\"]"
      ],
      "metadata": {
        "id": "DLeypLK5-nXZ"
      },
      "execution_count": null,
      "outputs": []
    },
    {
      "cell_type": "code",
      "source": [
        "np_first_trial = np.array(first_trial_cylist)\n",
        "np_second_trial = np.array(second_trial_cylist)"
      ],
      "metadata": {
        "id": "Pupl9Thg_K4J"
      },
      "execution_count": null,
      "outputs": []
    },
    {
      "cell_type": "code",
      "source": [
        "np_second_trial"
      ],
      "metadata": {
        "colab": {
          "base_uri": "https://localhost:8080/"
        },
        "id": "E204bh6Q_2v2",
        "outputId": "d625f706-e7db-4670-aa3c-14a36212e246"
      },
      "execution_count": null,
      "outputs": [
        {
          "output_type": "execute_result",
          "data": {
            "text/plain": [
              "array(['10', '15', '20', '20', '30', '49', '50', '60'], dtype='<U2')"
            ]
          },
          "metadata": {},
          "execution_count": 30
        }
      ]
    },
    {
      "cell_type": "code",
      "source": [
        "np_first_trial + np_second_trial"
      ],
      "metadata": {
        "id": "0rVYXEkE_Kkd"
      },
      "execution_count": null,
      "outputs": []
    },
    {
      "cell_type": "code",
      "source": [
        "np_first_trial[1] * np_second_trial[5]"
      ],
      "metadata": {
        "id": "8-kI_lU5AORN"
      },
      "execution_count": null,
      "outputs": []
    },
    {
      "cell_type": "code",
      "source": [
        "for i in range(len()first_trial_cyclist):\n",
        "  for ...:\n",
        "    for "
      ],
      "metadata": {
        "id": "UJmb-pUGATBU"
      },
      "execution_count": null,
      "outputs": []
    },
    {
      "cell_type": "code",
      "source": [
        "cyclist_trial = np.array([[10, 15, 17, 26],[12, 11, 21, 24]])"
      ],
      "metadata": {
        "id": "SdwUX58V_r4Y"
      },
      "execution_count": null,
      "outputs": []
    },
    {
      "cell_type": "code",
      "source": [
        "cyclist_trial\n"
      ],
      "metadata": {
        "colab": {
          "base_uri": "https://localhost:8080/"
        },
        "id": "1dra01S0A2y0",
        "outputId": "b7bd0dad-1254-4071-85ac-80ec54ac224b"
      },
      "execution_count": null,
      "outputs": [
        {
          "output_type": "execute_result",
          "data": {
            "text/plain": [
              "array([[10, 15, 17, 26],\n",
              "       [12, 11, 21, 24]])"
            ]
          },
          "metadata": {},
          "execution_count": 38
        }
      ]
    },
    {
      "cell_type": "code",
      "source": [
        "ftrail = cyclist_trial[0]\n",
        "ftrail"
      ],
      "metadata": {
        "colab": {
          "base_uri": "https://localhost:8080/"
        },
        "id": "Qe-ckj3pA5xc",
        "outputId": "e4ca52a6-71dd-4f40-dcc5-14c62691f45a"
      },
      "execution_count": null,
      "outputs": [
        {
          "output_type": "execute_result",
          "data": {
            "text/plain": [
              "array([10, 15, 17, 26])"
            ]
          },
          "metadata": {},
          "execution_count": 39
        }
      ]
    },
    {
      "cell_type": "code",
      "source": [
        "newlist = ['string1', 'string2']"
      ],
      "metadata": {
        "id": "tJ9FQwYcBGK6"
      },
      "execution_count": null,
      "outputs": []
    },
    {
      "cell_type": "code",
      "source": [
        "newlist[0]"
      ],
      "metadata": {
        "colab": {
          "base_uri": "https://localhost:8080/",
          "height": 35
        },
        "id": "ZwTH20zYBLHQ",
        "outputId": "ad5cc94a-de94-4748-e615-b6e6b7fc79b3"
      },
      "execution_count": null,
      "outputs": [
        {
          "output_type": "execute_result",
          "data": {
            "application/vnd.google.colaboratory.intrinsic+json": {
              "type": "string"
            },
            "text/plain": [
              "'string1'"
            ]
          },
          "metadata": {},
          "execution_count": 41
        }
      ]
    },
    {
      "cell_type": "code",
      "source": [
        "ftrail = cyclist_trial[1]\n",
        "ftrail"
      ],
      "metadata": {
        "colab": {
          "base_uri": "https://localhost:8080/"
        },
        "id": "1xFke-7mBxn-",
        "outputId": "75ab82a9-f033-4108-f75c-7e75f016a0c9"
      },
      "execution_count": null,
      "outputs": [
        {
          "output_type": "execute_result",
          "data": {
            "text/plain": [
              "array([12, 11, 21, 24])"
            ]
          },
          "metadata": {},
          "execution_count": 43
        }
      ]
    },
    {
      "cell_type": "code",
      "source": [
        ""
      ],
      "metadata": {
        "id": "gba90bwdBp2z"
      },
      "execution_count": null,
      "outputs": []
    },
    {
      "cell_type": "code",
      "source": [
        "newlist[0][2]\n"
      ],
      "metadata": {
        "colab": {
          "base_uri": "https://localhost:8080/",
          "height": 35
        },
        "id": "jN4MgBfyBSbf",
        "outputId": "7da5cbc0-2bb9-48b0-e8dc-3c7f917b193d"
      },
      "execution_count": null,
      "outputs": [
        {
          "output_type": "execute_result",
          "data": {
            "application/vnd.google.colaboratory.intrinsic+json": {
              "type": "string"
            },
            "text/plain": [
              "'r'"
            ]
          },
          "metadata": {},
          "execution_count": 42
        }
      ]
    },
    {
      "cell_type": "code",
      "source": [
        "ftrail[1] # this is the same as saying "
      ],
      "metadata": {
        "id": "CUTPnXrwBXvV"
      },
      "execution_count": null,
      "outputs": []
    },
    {
      "cell_type": "code",
      "source": [
        "cyclist_trial[0][1]"
      ],
      "metadata": {
        "colab": {
          "base_uri": "https://localhost:8080/"
        },
        "id": "o8HYU9I0B7Sh",
        "outputId": "a38e4974-85ad-4615-e359-82458100259e"
      },
      "execution_count": null,
      "outputs": [
        {
          "output_type": "execute_result",
          "data": {
            "text/plain": [
              "15"
            ]
          },
          "metadata": {},
          "execution_count": 44
        }
      ]
    },
    {
      "cell_type": "code",
      "source": [
        "test_score = np.array([[83, 71, 67, 63],[54,68,81,45]])"
      ],
      "metadata": {
        "id": "SiR72pvRB7Px"
      },
      "execution_count": null,
      "outputs": []
    },
    {
      "cell_type": "code",
      "source": [
        "passsed = test_score > 60\n",
        "passsed"
      ],
      "metadata": {
        "colab": {
          "base_uri": "https://localhost:8080/"
        },
        "id": "eqMMjfhyB7Nu",
        "outputId": "619e04cd-9891-4711-95c2-90840c221cc6"
      },
      "execution_count": null,
      "outputs": [
        {
          "output_type": "execute_result",
          "data": {
            "text/plain": [
              "array([[ True,  True,  True,  True],\n",
              "       [False,  True,  True, False]])"
            ]
          },
          "metadata": {},
          "execution_count": 46
        }
      ]
    },
    {
      "cell_type": "code",
      "source": [
        "test2_scores = test_score"
      ],
      "metadata": {
        "id": "aPAH6mVhB7LQ"
      },
      "execution_count": null,
      "outputs": []
    },
    {
      "cell_type": "code",
      "source": [
        "test_score is test2_scores"
      ],
      "metadata": {
        "colab": {
          "base_uri": "https://localhost:8080/"
        },
        "id": "jADeFKgxB7Ik",
        "outputId": "5a47db5a-e623-4967-88ea-4268b1caa20c"
      },
      "execution_count": null,
      "outputs": [
        {
          "output_type": "execute_result",
          "data": {
            "text/plain": [
              "True"
            ]
          },
          "metadata": {},
          "execution_count": 48
        }
      ]
    },
    {
      "cell_type": "code",
      "source": [
        "test2_scores[1][3] = 78\n",
        "\n",
        "test2_scores"
      ],
      "metadata": {
        "colab": {
          "base_uri": "https://localhost:8080/"
        },
        "id": "lq3wEsW0FYFa",
        "outputId": "d57ac80f-31f9-47fd-87e5-544758798beb"
      },
      "execution_count": null,
      "outputs": [
        {
          "output_type": "execute_result",
          "data": {
            "text/plain": [
              "array([[83, 71, 67, 63],\n",
              "       [54, 68, 81, 78]])"
            ]
          },
          "metadata": {},
          "execution_count": 66
        }
      ]
    },
    {
      "cell_type": "code",
      "source": [
        " NYC_Broughts = np.array([\"Manhattan\", \"Bronx\", \"Brooklyn\", \"Queens\", \"Staten Island\"])\n",
        " NYC_Broughts"
      ],
      "metadata": {
        "colab": {
          "base_uri": "https://localhost:8080/"
        },
        "id": "-qP2fOdBB7GN",
        "outputId": "ecf36269-843d-4d82-fa1c-e6a3b4641764"
      },
      "execution_count": null,
      "outputs": [
        {
          "output_type": "execute_result",
          "data": {
            "text/plain": [
              "array(['Manhattan', 'Bronx', 'Brooklyn', 'Queens', 'Staten Island'],\n",
              "      dtype='<U13')"
            ]
          },
          "metadata": {},
          "execution_count": 55
        }
      ]
    },
    {
      "cell_type": "code",
      "source": [
        "NY_Broughts = NYC_Broughts.view()"
      ],
      "metadata": {
        "id": "9ihQ9ACRB7Dm"
      },
      "execution_count": null,
      "outputs": []
    },
    {
      "cell_type": "code",
      "source": [
        "len(NYC_Broughts)"
      ],
      "metadata": {
        "colab": {
          "base_uri": "https://localhost:8080/"
        },
        "id": "oIu9wsEfB7Ac",
        "outputId": "fa96cdba-573b-4663-aea0-7e35bcd4f85d"
      },
      "execution_count": null,
      "outputs": [
        {
          "output_type": "execute_result",
          "data": {
            "text/plain": [
              "5"
            ]
          },
          "metadata": {},
          "execution_count": 62
        }
      ]
    },
    {
      "cell_type": "code",
      "source": [
        "NY_Broughts[4] = \"Central Park\"\n",
        "NY_Broughts"
      ],
      "metadata": {
        "colab": {
          "base_uri": "https://localhost:8080/"
        },
        "id": "ZW4lemoJB67Y",
        "outputId": "3bba031e-b032-4f8b-8815-ad2c1b92479b"
      },
      "execution_count": null,
      "outputs": [
        {
          "output_type": "execute_result",
          "data": {
            "text/plain": [
              "array(['Manhattan', 'Bronx', 'Brooklyn', 'Queens', 'Central Park'],\n",
              "      dtype='<U13')"
            ]
          },
          "metadata": {},
          "execution_count": 63
        }
      ]
    },
    {
      "cell_type": "code",
      "source": [
        "NYC_Broughts is NY_Broughts"
      ],
      "metadata": {
        "colab": {
          "base_uri": "https://localhost:8080/"
        },
        "id": "gyl502CpB6x9",
        "outputId": "d6382042-33d2-4d3a-ad65-cfd6bb8bced9"
      },
      "execution_count": null,
      "outputs": [
        {
          "output_type": "execute_result",
          "data": {
            "text/plain": [
              "False"
            ]
          },
          "metadata": {},
          "execution_count": 64
        }
      ]
    },
    {
      "cell_type": "code",
      "source": [
        ""
      ],
      "metadata": {
        "id": "v-orPYxmEnv7"
      },
      "execution_count": null,
      "outputs": []
    },
    {
      "cell_type": "code",
      "source": [
        ""
      ],
      "metadata": {
        "id": "XKN2Q3NOEzbM"
      },
      "execution_count": null,
      "outputs": []
    },
    {
      "cell_type": "code",
      "source": [
        ""
      ],
      "metadata": {
        "id": "AomJ2DheEzYm"
      },
      "execution_count": null,
      "outputs": []
    },
    {
      "cell_type": "code",
      "source": [
        ""
      ],
      "metadata": {
        "id": "7wxPkMngEzV5"
      },
      "execution_count": null,
      "outputs": []
    },
    {
      "cell_type": "code",
      "source": [
        ""
      ],
      "metadata": {
        "id": "i47D860kEzTa"
      },
      "execution_count": null,
      "outputs": []
    },
    {
      "cell_type": "code",
      "source": [
        ""
      ],
      "metadata": {
        "id": "J0vVzfYLEzRM"
      },
      "execution_count": null,
      "outputs": []
    },
    {
      "cell_type": "code",
      "source": [
        ""
      ],
      "metadata": {
        "id": "9DQ8XmNzEzOm"
      },
      "execution_count": null,
      "outputs": []
    },
    {
      "cell_type": "code",
      "source": [
        ""
      ],
      "metadata": {
        "id": "v2GPVCV2EzLu"
      },
      "execution_count": null,
      "outputs": []
    }
  ]
}