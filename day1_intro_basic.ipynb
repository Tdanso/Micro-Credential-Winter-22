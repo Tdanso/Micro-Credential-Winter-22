{
  "nbformat": 4,
  "nbformat_minor": 0,
  "metadata": {
    "colab": {
      "name": "day1 intro basic.ipynb",
      "provenance": [],
      "authorship_tag": "ABX9TyMFBkeajbRU5bLF8xotbqvT",
      "include_colab_link": true
    },
    "kernelspec": {
      "name": "python3",
      "display_name": "Python 3"
    },
    "language_info": {
      "name": "python"
    }
  },
  "cells": [
    {
      "cell_type": "markdown",
      "metadata": {
        "id": "view-in-github",
        "colab_type": "text"
      },
      "source": [
        "<a href=\"https://colab.research.google.com/github/Tdanso/Micro-Credential-Winter-22/blob/main/day1_intro_basic.ipynb\" target=\"_parent\"><img src=\"https://colab.research.google.com/assets/colab-badge.svg\" alt=\"Open In Colab\"/></a>"
      ]
    },
    {
      "cell_type": "markdown",
      "source": [
        "day 1 intro"
      ],
      "metadata": {
        "id": "9N0LIxBiOBI_"
      }
    },
    {
      "cell_type": "code",
      "execution_count": 2,
      "metadata": {
        "colab": {
          "base_uri": "https://localhost:8080/"
        },
        "id": "PDKAKLfdNkzC",
        "outputId": "e0ab2c63-d653-4d3c-9a67-9ac518dc151d"
      },
      "outputs": [
        {
          "output_type": "stream",
          "name": "stdout",
          "text": [
            "hello world\n"
          ]
        }
      ],
      "source": [
        "print(\"hello world\")"
      ]
    },
    {
      "cell_type": "code",
      "source": [
        "import this"
      ],
      "metadata": {
        "colab": {
          "base_uri": "https://localhost:8080/"
        },
        "id": "rUEaRXQhOAbL",
        "outputId": "44b74e0e-4e0b-43f8-f3f6-2c9ed311b24a"
      },
      "execution_count": 3,
      "outputs": [
        {
          "output_type": "stream",
          "name": "stdout",
          "text": [
            "The Zen of Python, by Tim Peters\n",
            "\n",
            "Beautiful is better than ugly.\n",
            "Explicit is better than implicit.\n",
            "Simple is better than complex.\n",
            "Complex is better than complicated.\n",
            "Flat is better than nested.\n",
            "Sparse is better than dense.\n",
            "Readability counts.\n",
            "Special cases aren't special enough to break the rules.\n",
            "Although practicality beats purity.\n",
            "Errors should never pass silently.\n",
            "Unless explicitly silenced.\n",
            "In the face of ambiguity, refuse the temptation to guess.\n",
            "There should be one-- and preferably only one --obvious way to do it.\n",
            "Although that way may not be obvious at first unless you're Dutch.\n",
            "Now is better than never.\n",
            "Although never is often better than *right* now.\n",
            "If the implementation is hard to explain, it's a bad idea.\n",
            "If the implementation is easy to explain, it may be a good idea.\n",
            "Namespaces are one honking great idea -- let's do more of those!\n"
          ]
        }
      ]
    },
    {
      "cell_type": "markdown",
      "source": [
        "# home\n"
      ],
      "metadata": {
        "id": "fCkpNeCJVdZ5"
      }
    },
    {
      "cell_type": "code",
      "source": [
        "print(\" github replacement\")"
      ],
      "metadata": {
        "colab": {
          "base_uri": "https://localhost:8080/"
        },
        "id": "5mpwG-ElT3V5",
        "outputId": "55465142-d1cd-447f-e7b6-68c82ee99f00"
      },
      "execution_count": 4,
      "outputs": [
        {
          "output_type": "stream",
          "name": "stdout",
          "text": [
            " github replacement\n"
          ]
        }
      ]
    },
    {
      "cell_type": "code",
      "source": [
        "len(\" hello there\")"
      ],
      "metadata": {
        "colab": {
          "base_uri": "https://localhost:8080/"
        },
        "id": "r0BFYRL2YAQ9",
        "outputId": "c9fd4f59-a06d-41d5-88f6-bddcb188ebaa"
      },
      "execution_count": 6,
      "outputs": [
        {
          "output_type": "execute_result",
          "data": {
            "text/plain": [
              "12"
            ]
          },
          "metadata": {},
          "execution_count": 6
        }
      ]
    },
    {
      "cell_type": "code",
      "source": [
        "s = ('general kanobi')"
      ],
      "metadata": {
        "id": "AuEpGChgYKZZ"
      },
      "execution_count": 11,
      "outputs": []
    },
    {
      "cell_type": "code",
      "source": [
        "s"
      ],
      "metadata": {
        "colab": {
          "base_uri": "https://localhost:8080/",
          "height": 35
        },
        "id": "vCnP7JQZYagt",
        "outputId": "7c3bac88-3fad-4300-d5f3-b09dbb43342e"
      },
      "execution_count": 12,
      "outputs": [
        {
          "output_type": "execute_result",
          "data": {
            "application/vnd.google.colaboratory.intrinsic+json": {
              "type": "string"
            },
            "text/plain": [
              "'general kanobi'"
            ]
          },
          "metadata": {},
          "execution_count": 12
        }
      ]
    },
    {
      "cell_type": "markdown",
      "source": [
        "String Indexing\n",
        "\n",
        "we know strings are sequence, which mean python can used indexes to call part of the sequence. ltes learn how this works in python. we use bracket[] after an objects to call its index.  we should also note that indexing start at 0 for python. ltes create anew objectx called and the walk throught a few examples of indexing"
      ],
      "metadata": {
        "id": "Z8hTPVmuZn2N"
      }
    },
    {
      "cell_type": "code",
      "source": [
        "print(\"gggg\")"
      ],
      "metadata": {
        "colab": {
          "base_uri": "https://localhost:8080/"
        },
        "id": "C5lb6i2lapx1",
        "outputId": "0058dbea-6985-4515-ba0f-451aa802f10c"
      },
      "execution_count": 13,
      "outputs": [
        {
          "output_type": "stream",
          "name": "stdout",
          "text": [
            "gggg\n"
          ]
        }
      ]
    },
    {
      "cell_type": "code",
      "source": [
        ""
      ],
      "metadata": {
        "id": "cpw3CtwZbIRK"
      },
      "execution_count": null,
      "outputs": []
    }
  ]
}