{
  "nbformat": 4,
  "nbformat_minor": 0,
  "metadata": {
    "colab": {
      "name": "Day 4 Functions.ipynb",
      "provenance": [],
      "include_colab_link": true
    },
    "kernelspec": {
      "name": "python3",
      "display_name": "Python 3"
    },
    "language_info": {
      "name": "python"
    }
  },
  "cells": [
    {
      "cell_type": "markdown",
      "metadata": {
        "id": "view-in-github",
        "colab_type": "text"
      },
      "source": [
        "<a href=\"https://colab.research.google.com/github/Tdanso/Micro-Credential-Winter-22/blob/main/Day_4_Functions.ipynb\" target=\"_parent\"><img src=\"https://colab.research.google.com/assets/colab-badge.svg\" alt=\"Open In Colab\"/></a>"
      ]
    },
    {
      "cell_type": "markdown",
      "source": [
        "# Functions\n",
        "\n",
        "So what is a function?\n",
        "\n",
        "Formally, a function is a useful device that groups together a set of statements so they can be run more than once. They can also let us specify parameters that can serve as inputs to the functions.\n",
        "\n",
        "On a more fundamental level, functions allow us to not have to repeatedly write the same code again and again. If you remember back to the lessons on strings and lists, remember that we used a function len() to get the length of a string. Since checking the length of a sequence is a common task you would want to write a function that can do this repeatedly at command.\n",
        "\n",
        "Functions will be one of most basic levels of reusing code in Python, and it will also allow us to start thinking of program design (we will dive much deeper into the ideas of design when we learn about Object Oriented Programming)."
      ],
      "metadata": {
        "id": "QIyJCu6jzXb-"
      }
    },
    {
      "cell_type": "markdown",
      "source": [
        "## def Statements\n",
        "Let's see how to build out a function's syntax in Python. It has the following form:"
      ],
      "metadata": {
        "id": "jOnxyeJyzeN5"
      }
    },
    {
      "cell_type": "code",
      "source": [
        "def name_of_function(arg1,arg2):\n",
        "    '''\n",
        "    This is where the function's Document String (doc-string) goes\n",
        "    '''\n",
        "    # Do stuff here\n",
        "    #return desired result"
      ],
      "metadata": {
        "id": "VcR4tUsXzeJd"
      },
      "execution_count": null,
      "outputs": []
    },
    {
      "cell_type": "markdown",
      "source": [
        "camelCase\n",
        "PascalCase\n",
        "_variable\n",
        "\n",
        "name_of_function()\n",
        "any_name_you_want()\n",
        "\n",
        "cars = ['oranges', 'bananas']\n",
        "temp_conv()"
      ],
      "metadata": {
        "id": "bbmnu1pezeGb"
      }
    },
    {
      "cell_type": "code",
      "source": [
        "def greeting():\n",
        "  \"\"\"\n",
        "  Author: who did this function\n",
        "  Input: what argument the functions takes.\n",
        "  Output: this function displays a greeting\n",
        "  this is function display a greeting\n",
        "  \"\"\"\n",
        "  print('hi there')"
      ],
      "metadata": {
        "id": "AzZ4pBPqzeDs"
      },
      "execution_count": 6,
      "outputs": []
    },
    {
      "cell_type": "code",
      "source": [
        "greeting()"
      ],
      "metadata": {
        "id": "j3ICAuHzzeAy",
        "outputId": "bc39ab64-a7e0-4c2c-a45e-7c27a9322c86",
        "colab": {
          "base_uri": "https://localhost:8080/"
        }
      },
      "execution_count": 7,
      "outputs": [
        {
          "output_type": "stream",
          "name": "stdout",
          "text": [
            "hi there\n"
          ]
        }
      ]
    },
    {
      "cell_type": "code",
      "source": [
        "??greeting()"
      ],
      "metadata": {
        "id": "wWbm-FANzd93"
      },
      "execution_count": 4,
      "outputs": []
    },
    {
      "cell_type": "code",
      "source": [
        "help(greeting)"
      ],
      "metadata": {
        "id": "sqekHOxZzd7G",
        "outputId": "f77f911e-3e0d-4bba-ddf1-2c37dc0f2ae1",
        "colab": {
          "base_uri": "https://localhost:8080/"
        }
      },
      "execution_count": 8,
      "outputs": [
        {
          "output_type": "stream",
          "name": "stdout",
          "text": [
            "Help on function greeting in module __main__:\n",
            "\n",
            "greeting()\n",
            "    Author: who did this function\n",
            "    Input: what argument the functions takes.\n",
            "    Output: this function displays a greeting\n",
            "    this is function display a greeting\n",
            "\n"
          ]
        }
      ]
    },
    {
      "cell_type": "code",
      "source": [
        "def sayhello():\n",
        "  \"\"\"\n",
        "  author: Tumade Danso.\n",
        "  this functions is to say hello!\n",
        "  \"\"\"\n",
        "  print('Hello there')"
      ],
      "metadata": {
        "id": "hHBZ8g3_zd3g"
      },
      "execution_count": 26,
      "outputs": []
    },
    {
      "cell_type": "code",
      "source": [
        "sayhello()"
      ],
      "metadata": {
        "id": "kU7e3J7tzd0C",
        "outputId": "d8aac0d8-873e-43ad-f7d8-64ba15ff60f7",
        "colab": {
          "base_uri": "https://localhost:8080/"
        }
      },
      "execution_count": 28,
      "outputs": [
        {
          "output_type": "stream",
          "name": "stdout",
          "text": [
            "Hello there\n"
          ]
        }
      ]
    },
    {
      "cell_type": "code",
      "source": [
        "??sayhello()"
      ],
      "metadata": {
        "id": "o9B-PHqezdw9"
      },
      "execution_count": 20,
      "outputs": []
    },
    {
      "cell_type": "code",
      "source": [
        "def add_num(num1, num2):\n",
        "  return num1+num2"
      ],
      "metadata": {
        "id": "MsbNKqlb6WGo"
      },
      "execution_count": 29,
      "outputs": []
    },
    {
      "cell_type": "code",
      "source": [
        "add_num(20, 60)"
      ],
      "metadata": {
        "id": "k8WexCoo9RmI",
        "outputId": "09f85824-669b-433f-b240-4101d5b4b6ee",
        "colab": {
          "base_uri": "https://localhost:8080/"
        }
      },
      "execution_count": 30,
      "outputs": [
        {
          "output_type": "execute_result",
          "data": {
            "text/plain": [
              "80"
            ]
          },
          "metadata": {},
          "execution_count": 30
        }
      ]
    },
    {
      "cell_type": "code",
      "source": [
        "def sub_num(num1, num2):\n",
        "  return num1-num2"
      ],
      "metadata": {
        "id": "2NvDjukH9Vgx"
      },
      "execution_count": 32,
      "outputs": []
    },
    {
      "cell_type": "code",
      "source": [
        "sub_num(1, 45)"
      ],
      "metadata": {
        "id": "WPfZ2IAN9c9y",
        "outputId": "391372ec-5682-48b5-e2b5-012a199255f4",
        "colab": {
          "base_uri": "https://localhost:8080/"
        }
      },
      "execution_count": 34,
      "outputs": [
        {
          "output_type": "execute_result",
          "data": {
            "text/plain": [
              "-44"
            ]
          },
          "metadata": {},
          "execution_count": 34
        }
      ]
    },
    {
      "cell_type": "code",
      "source": [
        "\n",
        "# calculator by function\n",
        " # add\n",
        "def add(num1, num2):\n",
        "    return num1 + num2\n",
        "   # sub\n",
        "def subtract(num1, num2):\n",
        "    return num1 - num2\n",
        "  # multiply\n",
        "def multiply(num1, num2):\n",
        "    return num1 * num2\n",
        "  #division\n",
        "def divide(num1, num2):\n",
        "    return num1 / num2\n",
        "\n",
        "    num1 = int(input())\n",
        "    num2 = int(input())\n",
        "    result = num1 + num1, num1 - num2, num1 / num2, num1 * num2\n",
        "# print('here is result:' + input(), input()) \n",
        "  \n",
        "#print(result)"
      ],
      "metadata": {
        "id": "iZ9JHClx9kDJ"
      },
      "execution_count": 51,
      "outputs": []
    },
    {
      "cell_type": "code",
      "source": [
        "\n",
        "operation=int(input(\"what operation do you want?\\n \\\n",
        "1.Add\\n 2.Sub\\n 3.Multiply\\n 4.Division\\n\"))\n",
        "num1 = int(input(\"enter first number\"))\n",
        "num2 = int(input(\"enter second number\"))\n",
        "if(operation==1):\n",
        "  print(\"Add is:\",str(num1+num2))\n",
        "elif(operation==2):\n",
        "  print(\"Sub is:\",str(num1-num2))\n",
        "elif(operation==3):\n",
        "  print(\"Multiply is:\",str(num1*num2))\n",
        "elif(operation==4):\n",
        "  print(\"Divided is:\",str(num1/num2))\n",
        " # else:\n",
        "  #  print(\" wrong entry\")\n"
      ],
      "metadata": {
        "id": "XWQi-TNdJsDv",
        "outputId": "72695ab5-1d8d-49ab-a367-f5e06dd36df2",
        "colab": {
          "base_uri": "https://localhost:8080/"
        }
      },
      "execution_count": 86,
      "outputs": [
        {
          "output_type": "stream",
          "name": "stdout",
          "text": [
            "what operation do you want?\n",
            " 1.Add\n",
            " 2.Sub\n",
            " 3.Multiply\n",
            " 4.Division\n",
            "3\n",
            "enter first number90\n",
            "enter second number6\n",
            "Multiply is: 540\n"
          ]
        }
      ]
    },
    {
      "cell_type": "code",
      "source": [
        "def greeting(fname, lname, age):\n",
        "  \"\"\"\n",
        "  Author: who did this function\n",
        "  Input: what argument the functions takes.\n",
        "  Output: this function displays a greeting\n",
        "  this is function display a greeting\n",
        "  \"\"\"\n",
        "  print(f'hi there{fname}, {lname}... you are {age} years old')"
      ],
      "metadata": {
        "id": "dHOt4hvFd_JR"
      },
      "execution_count": 87,
      "outputs": []
    },
    {
      "cell_type": "code",
      "source": [
        "greeting(' general', ' kenobi', '80')"
      ],
      "metadata": {
        "id": "0YoC4JFDeXRv",
        "outputId": "ac4f6a7a-6994-4d5a-ce0f-cae71b43491c",
        "colab": {
          "base_uri": "https://localhost:8080/"
        }
      },
      "execution_count": 89,
      "outputs": [
        {
          "output_type": "stream",
          "name": "stdout",
          "text": [
            "hi there general,  kenobi... you are 80 years old\n"
          ]
        }
      ]
    },
    {
      "cell_type": "code",
      "source": [
        "add_num(9,100)"
      ],
      "metadata": {
        "id": "RaIYJmTxfOwk",
        "outputId": "f73ef729-d598-4bad-f964-009e2f02bec2",
        "colab": {
          "base_uri": "https://localhost:8080/"
        }
      },
      "execution_count": 90,
      "outputs": [
        {
          "output_type": "execute_result",
          "data": {
            "text/plain": [
              "-91"
            ]
          },
          "metadata": {},
          "execution_count": 90
        }
      ]
    },
    {
      "cell_type": "code",
      "source": [
        "def greeting(name=\"Maddy\"):\n",
        "  \"\"\"\n",
        "  Author: who did this function\n",
        "  Input: what argument the functions takes.\n",
        "  Output: this function displays a greeting\n",
        "  this is function display a greeting\n",
        "  \"\"\"\n",
        " # print(f'hi there{fname}, {lname}... you are {age} years old')\n",
        "  print(f\"hello, {name}\")\n",
        "\n"
      ],
      "metadata": {
        "id": "Lqnq9cBGfPcu"
      },
      "execution_count": 95,
      "outputs": []
    },
    {
      "cell_type": "code",
      "source": [
        "   \n",
        "def prime(lower_num, upper_num):\n",
        "   # lower_num= int(input(\"enter lower number\")) \n",
        "   # upper_num= int(input(\"enter upper number\"))\n",
        "    lower = 0\n",
        "    upper = 100\n",
        "    for num in range(lower,upper + 1):  \n",
        "      if num > 1:  \n",
        "          for i in range(2,num):  \n",
        "              if (num % i) == 0:  \n",
        "                  break  \n",
        "          else:  \n",
        "              print(num)  \n",
        "    prime(1,200)"
      ],
      "metadata": {
        "id": "ujAHhJYgfPNS"
      },
      "execution_count": 134,
      "outputs": []
    },
    {
      "cell_type": "code",
      "source": [
        "print(f\" these are prime numbers, {prime}\")"
      ],
      "metadata": {
        "id": "FfU1DdGLhPej",
        "outputId": "8dd6b234-b8fd-414c-b956-9f326613be4a",
        "colab": {
          "base_uri": "https://localhost:8080/"
        }
      },
      "execution_count": 132,
      "outputs": [
        {
          "output_type": "stream",
          "name": "stdout",
          "text": [
            " these are prime numbers, <function prime at 0x7f460b260b00>\n"
          ]
        }
      ]
    }
  ]
}